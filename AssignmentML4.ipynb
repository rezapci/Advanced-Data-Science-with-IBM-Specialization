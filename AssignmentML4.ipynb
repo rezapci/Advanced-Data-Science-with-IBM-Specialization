{
    "nbformat_minor": 1, 
    "cells": [
        {
            "source": "| Name | Description | Date \n| :- |-------------: | :-:\n|Reza Hashemi| IBM Advanced Machine Learning and Signal Processing. Assignment4-    | on 26th of August 2019 |\n\nThis is the last assignment for the IBM Coursera course \"Advanced Machine Learning and Signal Processing\"\n\nJust execute all cells one after the other and you are done - just note that in the last one you should update your email address (the one you've used for coursera) and obtain a submission token, you get this from the programming assignment directly on coursera.\n\nPlease fill in the sections labelled with \"###YOUR_CODE_GOES_HERE###\"\n\nThe purpose of this assignment is to learn how feature engineering boosts model performance. You will apply Discrete Fourier Transformation on the accelerometer sensor time series and therefore transforming the dataset from the time to the frequency domain. \n\nAfter that, you\u2019ll use a classification algorithm of your choice to create a model and submit the new predictions to the grader. Done.\n\nPlease make sure you run this notebook from an Apache Spark 2.3 notebook.\n\nSo the first thing we need to ensure is that we are on the latest version of SystemML, which is 1.3.0 (as of 20th March'19) Please use the code block below to check if you are already on 1.3.0 or higher. 1.3 contains a necessary fix, that's we are running against the SNAPSHOT\n", 
            "cell_type": "markdown", 
            "metadata": {}
        }, 
        {
            "source": "from systemml import MLContext\nml = MLContext(spark)\nml.version()", 
            "cell_type": "code", 
            "execution_count": 1, 
            "outputs": [
                {
                    "output_type": "stream", 
                    "name": "stdout", 
                    "text": "Waiting for a Spark session to start...\nWaiting for a Spark session to start...\nSpark Initialization Done! ApplicationId = app-20190827030029-0006\nKERNEL_ID = 415b8687-6ba2-48d4-ba79-6d37b0d26c49\nSpark Initialization Done! ApplicationId = app-20190827030029-0006\nKERNEL_ID = 415b8687-6ba2-48d4-ba79-6d37b0d26c49\n"
                }, 
                {
                    "output_type": "execute_result", 
                    "metadata": {}, 
                    "data": {
                        "text/plain": "'1.3.0-SNAPSHOT'"
                    }, 
                    "execution_count": 1
                }, 
                {
                    "output_type": "execute_result", 
                    "metadata": {}, 
                    "data": {
                        "text/plain": "'1.3.0-SNAPSHOT'"
                    }, 
                    "execution_count": 1
                }
            ], 
            "metadata": {}
        }, 
        {
            "source": "\n\nIf you are blow version 1.3.0, or you got the error message \"No module named 'systemml'\"  please execute the next two code blocks and then\n\n# PLEASE RESTART THE KERNEL !!!\n\nOtherwise your changes won't take effect, just double-check every time you run this notebook if you are on SystemML 1.3\n", 
            "cell_type": "markdown", 
            "metadata": {}
        }, 
        {
            "source": "#!pip install https://github.com/IBM/coursera/blob/master/systemml-1.3.0-SNAPSHOT-python.tar.gz?raw=true", 
            "cell_type": "code", 
            "execution_count": 2, 
            "outputs": [], 
            "metadata": {}
        }, 
        {
            "source": "\n\nNow we need to create two sym links that the newest version is picket up - this is a workaround and will be removed as soon as SystemML 1.3 will be pre-installed on Watson Studio once officially released.\n", 
            "cell_type": "markdown", 
            "metadata": {}
        }, 
        {
            "source": "#!ln -s -f ~/user-libs/python3/systemml/systemml-java/systemml-1.3.0-SNAPSHOT-extra.jar ~/user-libs/spark2/systemml-1.3.0-SNAPSHOT-extra.jar\n#!ln -s -f ~/user-libs/python3/systemml/systemml-java/systemml-1.3.0-SNAPSHOT.jar ~/user-libs/spark2/systemml-1.3.0-SNAPSHOT.jar", 
            "cell_type": "code", 
            "execution_count": 3, 
            "outputs": [], 
            "metadata": {}
        }, 
        {
            "source": "# Please now restart the kernel and start from the beginning to make sure you've installed SystemML 1.3\n\nLet's download the test data since it's so small we don't use COS (IBM Cloud Object Store) here", 
            "cell_type": "markdown", 
            "metadata": {}
        }, 
        {
            "source": "!wget https://github.com/IBM/coursera/blob/master/coursera_ml/shake.parquet?raw=true\n!mv shake.parquet?raw=true shake.parquet", 
            "cell_type": "code", 
            "execution_count": 4, 
            "outputs": [
                {
                    "output_type": "stream", 
                    "name": "stdout", 
                    "text": "--2019-08-27 03:00:55--  https://github.com/IBM/coursera/blob/master/coursera_ml/shake.parquet?raw=true\nResolving github.com (github.com)... 140.82.118.4\nConnecting to github.com (github.com)|140.82.118.4|:443... --2019-08-27 03:00:55--  https://github.com/IBM/coursera/blob/master/coursera_ml/shake.parquet?raw=true\nResolving github.com (github.com)... 140.82.118.4\nConnecting to github.com (github.com)|140.82.118.4|:443... connected.\nconnected.\nHTTP request sent, awaiting response... HTTP request sent, awaiting response... 302 Found\n302 Found\nLocation: https://github.com/IBM/coursera/raw/master/coursera_ml/shake.parquet [following]\n--2019-08-27 03:00:56--  https://github.com/IBM/coursera/raw/master/coursera_ml/shake.parquet\nReusing existing connection to github.com:443.\nHTTP request sent, awaiting response... Location: https://github.com/IBM/coursera/raw/master/coursera_ml/shake.parquet [following]\n--2019-08-27 03:00:56--  https://github.com/IBM/coursera/raw/master/coursera_ml/shake.parquet\nReusing existing connection to github.com:443.\nHTTP request sent, awaiting response... 302 Found\nLocation: https://raw.githubusercontent.com/IBM/coursera/master/coursera_ml/shake.parquet [following]\n--2019-08-27 03:00:56--  https://raw.githubusercontent.com/IBM/coursera/master/coursera_ml/shake.parquet\nResolving raw.githubusercontent.com (raw.githubusercontent.com)... 151.101.48.133\nConnecting to raw.githubusercontent.com (raw.githubusercontent.com)|151.101.48.133|:443... connected.\nHTTP request sent, awaiting response... 302 Found\nLocation: https://raw.githubusercontent.com/IBM/coursera/master/coursera_ml/shake.parquet [following]\n--2019-08-27 03:00:56--  https://raw.githubusercontent.com/IBM/coursera/master/coursera_ml/shake.parquet\nResolving raw.githubusercontent.com (raw.githubusercontent.com)... 151.101.48.133\nConnecting to raw.githubusercontent.com (raw.githubusercontent.com)|151.101.48.133|:443... connected.\nHTTP request sent, awaiting response... 200 OK\nLength: 74727 (73K) [application/octet-stream]\nSaving to: 'shake.parquet?raw=true'\n\nshake.parquet?raw=t   0%[                    ]       0  --.-KB/s               200 OK\nLength: 74727 (73K) [application/octet-stream]\nSaving to: 'shake.parquet?raw=true'\n\nshake.parquet?raw=t 100%[===================>]  72.98K  --.-KB/s    in 0.04s   \n\n2019-08-27 03:00:56 (1.71 MB/s) - 'shake.parquet?raw=true' saved [74727/74727]\n\nshake.parquet?raw=t 100%[===================>]  72.98K  --.-KB/s    in 0.04s   \n\n2019-08-27 03:00:56 (1.71 MB/s) - 'shake.parquet?raw=true' saved [74727/74727]\n\n"
                }
            ], 
            "metadata": {}
        }, 
        {
            "source": "Now it\u2019s time to read the sensor data and create a temporary query table.", 
            "cell_type": "markdown", 
            "metadata": {}
        }, 
        {
            "source": "df=spark.read.parquet('shake.parquet')", 
            "cell_type": "code", 
            "execution_count": 5, 
            "outputs": [], 
            "metadata": {}
        }, 
        {
            "source": "df.show()", 
            "cell_type": "code", 
            "execution_count": 6, 
            "outputs": [
                {
                    "output_type": "stream", 
                    "name": "stdout", 
                    "text": "+-----+---------+-----+-----+-----+\n|CLASS| SENSORID|    X|    Y|    Z|\n+-----+---------+-----+-----+-----+\n|    2| qqqqqqqq| 0.12| 0.12| 0.12|\n|    2|aUniqueID| 0.03| 0.03| 0.03|\n|    2| qqqqqqqq|-3.84|-3.84|-3.84|\n|    2| 12345678| -0.1| -0.1| -0.1|\n|    2| 12345678|-0.15|-0.15|-0.15|\n|    2| 12345678| 0.47| 0.47| 0.47|\n|    2| 12345678|-0.06|-0.06|-0.06|\n|    2| 12345678|-0.09|-0.09|-0.09|\n|    2| 12345678| 0.21| 0.21| 0.21|\n|    2| 12345678|-0.08|-0.08|-0.08|\n|    2| 12345678| 0.44| 0.44| 0.44|\n|    2|    gholi| 0.76| 0.76| 0.76|\n|    2|    gholi| 1.62| 1.62| 1.62|\n|    2|    gholi| 5.81| 5.81| 5.81|\n|    2| bcbcbcbc| 0.58| 0.58| 0.58|\n|    2| bcbcbcbc|-8.24|-8.24|-8.24|\n|    2| bcbcbcbc|-0.45|-0.45|-0.45|\n|    2| bcbcbcbc| 1.03| 1.03| 1.03|\n|    2|aUniqueID|-0.05|-0.05|-0.05|\n|    2| qqqqqqqq|-0.44|-0.44|-0.44|\n+-----+---------+-----+-----+-----+\nonly showing top 20 rows\n\n+-----+---------+-----+-----+-----+\n|CLASS| SENSORID|    X|    Y|    Z|\n+-----+---------+-----+-----+-----+\n|    2| qqqqqqqq| 0.12| 0.12| 0.12|\n|    2|aUniqueID| 0.03| 0.03| 0.03|\n|    2| qqqqqqqq|-3.84|-3.84|-3.84|\n|    2| 12345678| -0.1| -0.1| -0.1|\n|    2| 12345678|-0.15|-0.15|-0.15|\n|    2| 12345678| 0.47| 0.47| 0.47|\n|    2| 12345678|-0.06|-0.06|-0.06|\n|    2| 12345678|-0.09|-0.09|-0.09|\n|    2| 12345678| 0.21| 0.21| 0.21|\n|    2| 12345678|-0.08|-0.08|-0.08|\n|    2| 12345678| 0.44| 0.44| 0.44|\n|    2|    gholi| 0.76| 0.76| 0.76|\n|    2|    gholi| 1.62| 1.62| 1.62|\n|    2|    gholi| 5.81| 5.81| 5.81|\n|    2| bcbcbcbc| 0.58| 0.58| 0.58|\n|    2| bcbcbcbc|-8.24|-8.24|-8.24|\n|    2| bcbcbcbc|-0.45|-0.45|-0.45|\n|    2| bcbcbcbc| 1.03| 1.03| 1.03|\n|    2|aUniqueID|-0.05|-0.05|-0.05|\n|    2| qqqqqqqq|-0.44|-0.44|-0.44|\n+-----+---------+-----+-----+-----+\nonly showing top 20 rows\n\n"
                }
            ], 
            "metadata": {}
        }, 
        {
            "source": "#!pip install pixiedust", 
            "cell_type": "code", 
            "execution_count": 7, 
            "outputs": [], 
            "metadata": {}
        }, 
        {
            "source": "import pixiedust\ndisplay(df)", 
            "cell_type": "code", 
            "execution_count": null, 
            "outputs": [
                {
                    "output_type": "display_data", 
                    "data": {
                        "text/plain": "<IPython.core.display.HTML object>", 
                        "text/html": "<style type=\"text/css\">.pd_warning{display:none;}</style><div class=\"pd_warning\"><em>Hey, there's something awesome here! To see it, open this notebook outside GitHub, in a viewer like Jupyter</em></div><style type=\"text/css\" class=\"pd_save is-viewer-good\">\n    .df-table-wrapper .panel-heading {\n      border-radius: 0;\n      padding: 0px;\n    }\n    .df-table-wrapper .panel-heading:hover {\n      border-color: #008571;\n    }\n    .df-table-wrapper .panel-title a {\n      background-color: #f9f9fb;\n      color: #333333;\n      display: block;\n      outline: none;\n      padding: 10px 15px;\n      text-decoration: none;\n    }\n    .df-table-wrapper .panel-title a:hover {\n      background-color: #337ab7;\n      border-color: #2e6da4;\n      color: #ffffff;\n      display: block;\n      padding: 10px 15px;\n      text-decoration: none;\n    }\n    .df-table-wrapper {\n      font-size: small;\n      font-weight: 300;\n      letter-spacing: 0.5px;\n      line-height: normal;\n      height: inherit;\n      overflow: auto;\n    }\n    .df-table-search {\n      margin: 0 0 20px 0;\n    }\n    .df-table-search-count {\n      display: inline-block;\n      margin: 0 0 20px 0;\n    }\n    .df-table-container {\n      max-height: 50vh;\n      max-width: 100%;\n      overflow-x: auto;\n      position: relative;\n    }\n    .df-table-wrapper table {\n      border: 0 none #ffffff;\n      border-collapse: collapse;\n      margin: 0;\n      min-width: 100%;\n      padding: 0;\n      table-layout: fixed;\n      height: inherit;\n      overflow: auto;\n    }\n    .df-table-wrapper tr.hidden {\n      display: none;\n    }\n    .df-table-wrapper tr:nth-child(even) {\n      background-color: #f9f9fb;\n    }\n    .df-table-wrapper tr.even {\n      background-color: #f9f9fb;\n    }\n    .df-table-wrapper tr.odd {\n      background-color: #ffffff;\n    }\n    .df-table-wrapper td + td {\n      border-left: 1px solid #e0e0e0;\n    }\n  \n    .df-table-wrapper thead,\n    .fixed-header {\n      font-weight: 600;\n    }\n    .df-table-wrapper tr,\n    .fixed-row {\n      border: 0 none #ffffff;\n      margin: 0;\n      padding: 0;\n    }\n    .df-table-wrapper th,\n    .df-table-wrapper td,\n    .fixed-cell {\n      border: 0 none #ffffff;\n      margin: 0;\n      min-width: 50px;\n      padding: 5px 20px 5px 10px;\n      text-align: left;\n      word-wrap: break-word;\n    }\n    .df-table-wrapper th {\n      padding-bottom: 0;\n      padding-top: 0;\n    }\n    .df-table-wrapper th div {\n      max-height: 1px;\n      visibility: hidden;\n    }\n  \n    .df-schema-field {\n      margin-left: 10px;\n    }\n  \n    .fixed-header-container {\n      overflow: hidden;\n      position: relative;\n    }\n    .fixed-header {\n      border-bottom: 2px solid #000;\n      display: table;\n      position: relative;\n    }\n    .fixed-row {\n      display: table-row;\n    }\n    .fixed-cell {\n      display: table-cell;\n    }\n  </style><div class=\"df-table-wrapper df-table-wrapper-5f773b07 panel-group pd_save is-viewer-good\">\n    <!-- dataframe schema -->\n    \n    <div class=\"panel panel-default\">\n      <div class=\"panel-heading\">\n        <h4 class=\"panel-title\" style=\"margin: 0px;\">\n          <a data-toggle=\"collapse\" href=\"#df-schema-5f773b07\" data-parent=\"#df-table-wrapper-5f773b07\">Schema</a>\n        </h4>\n      </div>\n      <div id=\"df-schema-5f773b07\" class=\"panel-collapse collapse\">\n        <div class=\"panel-body\" style=\"font-family: monospace;\">\n          <div class=\"df-schema-fields\">\n            <div>Field types:</div>\n            \n              <div class=\"df-schema-field\"><strong>CLASS: </strong> int64</div>\n            \n              <div class=\"df-schema-field\"><strong>SENSORID: </strong> object</div>\n            \n              <div class=\"df-schema-field\"><strong>X: </strong> float64</div>\n            \n              <div class=\"df-schema-field\"><strong>Y: </strong> float64</div>\n            \n              <div class=\"df-schema-field\"><strong>Z: </strong> float64</div>\n            \n          </div>\n        </div>\n      </div>\n    </div>\n    \n    <!-- dataframe table -->\n    <div class=\"panel panel-default\">\n      \n      <div class=\"panel-heading\">\n        <h4 class=\"panel-title\" style=\"margin: 0px;\">\n          <a data-toggle=\"collapse\" href=\"#df-table-5f773b07\" data-parent=\"#df-table-wrapper-5f773b07\"> Table</a>\n        </h4>\n      </div>\n      \n      <div id=\"df-table-5f773b07\" class=\"panel-collapse collapse in\">\n        <div class=\"panel-body\">\n          \n          <input type=\"text\" class=\"df-table-search form-control input-sm\" placeholder=\"Search table\">\n          \n          <div>\n            \n            <span class=\"df-table-search-count\">Showing 0 of 9883 rows</span>\n            \n          </div>\n          <!-- fixed header for when dataframe table scrolls -->\n          <div class=\"fixed-header-container\">\n            <div class=\"fixed-header\">\n              <div class=\"fixed-row\">\n                \n                <div class=\"fixed-cell\">CLASS</div>\n                \n                <div class=\"fixed-cell\">SENSORID</div>\n                \n                <div class=\"fixed-cell\">X</div>\n                \n                <div class=\"fixed-cell\">Y</div>\n                \n                <div class=\"fixed-cell\">Z</div>\n                \n              </div>\n            </div>\n          </div>\n          <div class=\"df-table-container\">\n            <table class=\"df-table\">\n              <thead>\n                <tr>\n                  \n                  <th><div>CLASS</div></th>\n                  \n                  <th><div>SENSORID</div></th>\n                  \n                  <th><div>X</div></th>\n                  \n                  <th><div>Y</div></th>\n                  \n                  <th><div>Z</div></th>\n                  \n                </tr>\n              </thead>\n              <tbody>\n                \n              </tbody>\n            </table>\n          </div>\n        </div>\n      </div>\n    </div>\n  </div><script class=\"pd_save is-viewer-good\">\n    $(function() {\n      var tableWrapper = $('.df-table-wrapper-5f773b07');\n      var fixedHeader = $('.fixed-header', tableWrapper);\n      var tableContainer = $('.df-table-container', tableWrapper);\n      var table = $('.df-table', tableContainer);\n      var rows = $('tbody > tr', table);\n      var total = 0;\n  \n      fixedHeader\n        .css('width', table.width())\n        .find('.fixed-cell')\n        .each(function(i, e) {\n          $(this).css('width', $('.df-table-wrapper-5f773b07 th:nth-child(' + (i+1) + ')').css('width'));\n        });\n  \n      tableContainer.scroll(function() {\n        fixedHeader.css({ left: table.position().left });\n      });\n  \n      rows.on(\"click\", function(e){\n          var txt = e.delegateTarget.innerText;\n          var splits = txt.split(\"\\t\");\n          var len = splits.length;\n          var hdrs = $(fixedHeader).find(\".fixed-cell\");\n          // Add all cells in the selected row as a map to be consumed by the target as needed\n          var payload = {type:\"select\", targetDivId: \"\" };\n          for (var i = 0; i < len; i++) {\n            payload[hdrs[i].innerHTML] = splits[i];\n          }\n  \n          //simple selection highlighting, client adds \"selected\" class\n          $(this).addClass(\"selected\").siblings().removeClass(\"selected\");\n          $(document).trigger('pd_event', payload);\n      });\n  \n      $('.df-table-search', tableWrapper).keyup(function() {\n        var val = '^(?=.*\\\\b' + $.trim($(this).val()).split(/\\s+/).join('\\\\b)(?=.*\\\\b') + ').*$';\n        var reg = RegExp(val, 'i');\n        var index = 0;\n        \n        rows.each(function(i, e) {\n          if (!reg.test($(this).text().replace(/\\s+/g, ' '))) {\n            $(this).attr('class', 'hidden');\n          }\n          else {\n            $(this).attr('class', (++index % 2 == 0 ? 'even' : 'odd'));\n          }\n        });\n        $('.df-table-search-count', tableWrapper).html('Showing ' + index + ' of ' + total + ' rows');\n      });\n    });\n  \n    $(\".df-table-wrapper td:contains('http://')\").each(function(){var tc = this.textContent; $(this).wrapInner(\"<a target='_blank' href='\" + tc + \"'></a>\");});\n    $(\".df-table-wrapper td:contains('https://')\").each(function(){var tc = this.textContent; $(this).wrapInner(\"<a target='_blank' href='\" + tc + \"'></a>\");});\n  </script>"
                    }, 
                    "metadata": {}
                }
            ], 
            "metadata": {
                "pixiedust": {
                    "displayParams": {
                        "table_showrows": "Missing values", 
                        "handlerId": "tableView"
                    }
                }, 
                "scrolled": true
            }
        }, 
        {
            "source": "df.createOrReplaceTempView(\"df\")", 
            "cell_type": "code", 
            "execution_count": 9, 
            "outputs": [], 
            "metadata": {}
        }, 
        {
            "source": "We\u2019ll use Apache SystemML to implement Discrete Fourier Transformation. This way all computation continues to happen on the Apache Spark cluster for advanced scalability and performance.", 
            "cell_type": "markdown", 
            "metadata": {}
        }, 
        {
            "source": "from systemml import MLContext, dml\nml = MLContext(spark)", 
            "cell_type": "code", 
            "execution_count": 10, 
            "outputs": [], 
            "metadata": {}
        }, 
        {
            "source": "As you\u2019ve learned from the lecture, implementing Discrete Fourier Transformation in a linear algebra programming language is simple. Apache SystemML DML is such a language and as you can see the implementation is straightforward and doesn\u2019t differ too much from the mathematical definition (Just note that the sum operator has been swapped with a vector dot product using the %*% syntax borrowed from R\n):\n\n<img style=\"float: left;\" src=\"https://wikimedia.org/api/rest_v1/media/math/render/svg/1af0a78dc50bbf118ab6bd4c4dcc3c4ff8502223\">\n\n", 
            "cell_type": "markdown", 
            "metadata": {}
        }, 
        {
            "source": "dml_script = '''\nPI = 3.141592654\nN = nrow(signal)\n\nn = seq(0, N-1, 1)\nk = seq(0, N-1, 1)\n\nM = (n %*% t(k))*(2*PI/N)\n\nXa = cos(M) %*% signal\nXb = sin(M) %*% signal\n\nDFT = cbind(Xa, Xb)\n'''", 
            "cell_type": "code", 
            "execution_count": 11, 
            "outputs": [], 
            "metadata": {}
        }, 
        {
            "source": "Now it\u2019s time to create a function which takes a single row Apache Spark data frame as argument (the one containing the accelerometer measurement time series for one axis) and returns the Fourier transformation of it. In addition, we are adding an index column for later joining all axis together and renaming the columns to appropriate names. The result of this function is an Apache Spark DataFrame containing the Fourier Transformation of its input in two columns. \n", 
            "cell_type": "markdown", 
            "metadata": {}
        }, 
        {
            "source": "from pyspark.sql.functions import monotonically_increasing_id\n\ndef dft_systemml(signal,name):\n    prog = dml(dml_script).input('signal', signal).output('DFT')\n    \n    return (\n\n    #execute the script inside the SystemML engine running on top of Apache Spark\n    ml.execute(prog) \n     \n         #read result from SystemML execution back as SystemML Matrix\n        .get('DFT') \n     \n         #convert SystemML Matrix to ApacheSpark DataFrame \n        .toDF() \n     \n         #rename default column names\n        .selectExpr('C1 as %sa' % (name), 'C2 as %sb' % (name)) \n     \n         #add unique ID per row for later joining\n        .withColumn(\"id\", monotonically_increasing_id())\n    )", 
            "cell_type": "code", 
            "execution_count": 12, 
            "outputs": [], 
            "metadata": {}
        }, 
        {
            "source": "Now it\u2019s time to create DataFrames containing for each accelerometer sensor axis and one for each class. This means you\u2019ll get 6 DataFrames. Please implement this using the relational API of DataFrames or SparkSQL. Please use class 1 and 2 and not 0 and 1.\n", 
            "cell_type": "markdown", 
            "metadata": {}
        }, 
        {
            "source": "x0 = spark.sql(\"SELECT X from df where class = 0\")\ny0 = spark.sql(\"SELECT Y from df where class = 0\")\nz0 = spark.sql(\"SELECT Z from df where class = 0\")\nx1 = spark.sql(\"SELECT X from df where class = 1\")\ny1 = spark.sql(\"SELECT Y from df where class = 1\")\nz1 = spark.sql(\"SELECT Z from df where class = 1\")", 
            "cell_type": "code", 
            "execution_count": 13, 
            "outputs": [], 
            "metadata": {}
        }, 
        {
            "source": "Since we\u2019ve created this cool DFT function before, we can just call it for each of the 6 DataFrames now. And since the result of this function call is a DataFrame again we can use the pyspark best practice in simply calling methods on it sequentially. So what we are doing is the following:\n\n- Calling DFT for each class and accelerometer sensor axis.\n- Joining them together on the ID column. \n- Re-adding a column containing the class index.\n- Stacking both Dataframes for each classes together\n\n", 
            "cell_type": "markdown", 
            "metadata": {}
        }, 
        {
            "source": "from pyspark.sql.functions import lit\n\ndf_class_0 = dft_systemml(x0,'x') \\\n    .join(dft_systemml(y0,'y'), on=['id'], how='inner') \\\n    .join(dft_systemml(z0,'z'), on=['id'], how='inner') \\\n    .withColumn('class', lit(0))\n    \ndf_class_1 = dft_systemml(x1,'x') \\\n    .join(dft_systemml(y1,'y'), on=['id'], how='inner') \\\n    .join(dft_systemml(z1,'z'), on=['id'], how='inner') \\\n    .withColumn('class', lit(1))\n\ndf_dft = df_class_0.union(df_class_1)\n\ndf_dft.show()", 
            "cell_type": "code", 
            "execution_count": 14, 
            "outputs": [
                {
                    "output_type": "stream", 
                    "name": "stdout", 
                    "text": "SystemML Statistics:\nTotal execution time:\t\t0.013 sec.\nNumber of executed Spark inst:\t0.\n\n\nSystemML Statistics:\nTotal execution time:\t\t0.013 sec.\nNumber of executed Spark inst:\t0.\n\n\nSystemML Statistics:\nTotal execution time:\t\t0.000 sec.\nNumber of executed Spark inst:\t0.\n\n\nSystemML Statistics:\nTotal execution time:\t\t0.000 sec.\nNumber of executed Spark inst:\t0.\n\n\nSystemML Statistics:\nTotal execution time:\t\t0.000 sec.\nNumber of executed Spark inst:\t0.\n\n\nSystemML Statistics:\nTotal execution time:\t\t0.000 sec.\nNumber of executed Spark inst:\t0.\n\n\nSystemML Statistics:\nTotal execution time:\t\t0.393 sec.\nNumber of executed Spark inst:\t0.\n\n\nSystemML Statistics:\nTotal execution time:\t\t0.393 sec.\nNumber of executed Spark inst:\t0.\n\n\nSystemML Statistics:\nTotal execution time:\t\t0.190 sec.\nNumber of executed Spark inst:\t0.\n\n\nSystemML Statistics:\nTotal execution time:\t\t0.190 sec.\nNumber of executed Spark inst:\t0.\n\n\nSystemML Statistics:\nTotal execution time:\t\t0.227 sec.\nNumber of executed Spark inst:\t0.\n\n\nSystemML Statistics:\nTotal execution time:\t\t0.227 sec.\nNumber of executed Spark inst:\t0.\n\n\n+----------+--------------------+--------------------+--------------------+--------------------+--------------------+--------------------+-----+\n|        id|                  xa|                  xb|                  ya|                  yb|                  za|                  zb|class|\n+----------+--------------------+--------------------+--------------------+--------------------+--------------------+--------------------+-----+\n|8589934592|                 0.0|                 0.0|                 0.0|                 0.0|                 0.0|                 0.0|    0|\n|         0|                 0.0|                 0.0|                 0.0|                 0.0|                 0.0|                 0.0|    0|\n|8589934596|                 0.0|                 0.0|                 0.0|                 0.0|                 0.0|                 0.0|    0|\n|8589934598|                 0.0|                 0.0|                 0.0|                 0.0|                 0.0|                 0.0|    0|\n|8589934593|                 0.0|                 0.0|                 0.0|                 0.0|                 0.0|                 0.0|    0|\n|         6|                 0.0|                 0.0|                 0.0|                 0.0|                 0.0|                 0.0|    0|\n|         5|                 0.0|                 0.0|                 0.0|                 0.0|                 0.0|                 0.0|    0|\n|         1|                 0.0|                 0.0|                 0.0|                 0.0|                 0.0|                 0.0|    0|\n|         3|                 0.0|                 0.0|                 0.0|                 0.0|                 0.0|                 0.0|    0|\n|8589934594|                 0.0|                 0.0|                 0.0|                 0.0|                 0.0|                 0.0|    0|\n|8589934595|                 0.0|                 0.0|                 0.0|                 0.0|                 0.0|                 0.0|    0|\n|         2|                 0.0|                 0.0|                 0.0|                 0.0|                 0.0|                 0.0|    0|\n|         4|                 0.0|                 0.0|                 0.0|                 0.0|                 0.0|                 0.0|    0|\n|8589934597|                 0.0|                 0.0|                 0.0|                 0.0|                 0.0|                 0.0|    0|\n|        26|0.007432298669951747|-0.00394663166701...|0.007432298669951747|-0.00394663166701...|0.007432298669951747|-0.00394663166701...|    1|\n|        29| 0.02589077158423112|-0.02414578651495463| 0.02589077158423112|-0.02414578651495463| 0.02589077158423112|-0.02414578651495463|    1|\n|8589934592| 0.02589077121123453|0.024145789283483897| 0.02589077121123453|0.024145789283483897| 0.02589077121123453|0.024145789283483897|    1|\n|        19|-0.08486126908675795| -0.0218913608396156|-0.08486126908675795| -0.0218913608396156|-0.08486126908675795| -0.0218913608396156|    1|\n|        54| 0.02941472472264519| 0.08753524593777502| 0.02941472472264519| 0.08753524593777502| 0.02941472472264519| 0.08753524593777502|    1|\n|         0|-0.00305531695825...|0.013615410059352576|-0.00305531695825...|0.013615410059352576|-0.00305531695825...|0.013615410059352576|    1|\n+----------+--------------------+--------------------+--------------------+--------------------+--------------------+--------------------+-----+\nonly showing top 20 rows\n\n+----------+--------------------+--------------------+--------------------+--------------------+--------------------+--------------------+-----+\n|        id|                  xa|                  xb|                  ya|                  yb|                  za|                  zb|class|\n+----------+--------------------+--------------------+--------------------+--------------------+--------------------+--------------------+-----+\n|8589934592|                 0.0|                 0.0|                 0.0|                 0.0|                 0.0|                 0.0|    0|\n|         0|                 0.0|                 0.0|                 0.0|                 0.0|                 0.0|                 0.0|    0|\n|8589934596|                 0.0|                 0.0|                 0.0|                 0.0|                 0.0|                 0.0|    0|\n|8589934598|                 0.0|                 0.0|                 0.0|                 0.0|                 0.0|                 0.0|    0|\n|8589934593|                 0.0|                 0.0|                 0.0|                 0.0|                 0.0|                 0.0|    0|\n|         6|                 0.0|                 0.0|                 0.0|                 0.0|                 0.0|                 0.0|    0|\n|         5|                 0.0|                 0.0|                 0.0|                 0.0|                 0.0|                 0.0|    0|\n|         1|                 0.0|                 0.0|                 0.0|                 0.0|                 0.0|                 0.0|    0|\n|         3|                 0.0|                 0.0|                 0.0|                 0.0|                 0.0|                 0.0|    0|\n|8589934594|                 0.0|                 0.0|                 0.0|                 0.0|                 0.0|                 0.0|    0|\n|8589934595|                 0.0|                 0.0|                 0.0|                 0.0|                 0.0|                 0.0|    0|\n|         2|                 0.0|                 0.0|                 0.0|                 0.0|                 0.0|                 0.0|    0|\n|         4|                 0.0|                 0.0|                 0.0|                 0.0|                 0.0|                 0.0|    0|\n|8589934597|                 0.0|                 0.0|                 0.0|                 0.0|                 0.0|                 0.0|    0|\n|        26|0.007432298669951747|-0.00394663166701...|0.007432298669951747|-0.00394663166701...|0.007432298669951747|-0.00394663166701...|    1|\n|        29| 0.02589077158423112|-0.02414578651495463| 0.02589077158423112|-0.02414578651495463| 0.02589077158423112|-0.02414578651495463|    1|\n|8589934592| 0.02589077121123453|0.024145789283483897| 0.02589077121123453|0.024145789283483897| 0.02589077121123453|0.024145789283483897|    1|\n|        19|-0.08486126908675795| -0.0218913608396156|-0.08486126908675795| -0.0218913608396156|-0.08486126908675795| -0.0218913608396156|    1|\n|        54| 0.02941472472264519| 0.08753524593777502| 0.02941472472264519| 0.08753524593777502| 0.02941472472264519| 0.08753524593777502|    1|\n|         0|-0.00305531695825...|0.013615410059352576|-0.00305531695825...|0.013615410059352576|-0.00305531695825...|0.013615410059352576|    1|\n+----------+--------------------+--------------------+--------------------+--------------------+--------------------+--------------------+-----+\nonly showing top 20 rows\n\n"
                }
            ], 
            "metadata": {}
        }, 
        {
            "source": "Please create a VectorAssembler which consumes the newly created DFT columns and produces a column \u201cfeatures\u201d\n", 
            "cell_type": "markdown", 
            "metadata": {}
        }, 
        {
            "source": "from pyspark.ml.feature import VectorAssembler", 
            "cell_type": "code", 
            "execution_count": 15, 
            "outputs": [], 
            "metadata": {}
        }, 
        {
            "source": "vectorAssembler = VectorAssembler(\n    inputCols=[\"xa\", \"xb\", \"ya\", \"yb\", \"za\", \"zb\"],\n    outputCol=\"features\")", 
            "cell_type": "code", 
            "execution_count": 16, 
            "outputs": [], 
            "metadata": {}
        }, 
        {
            "source": "Please insatiate a classifier from the SparkML package and assign it to the classifier variable. Make sure to set the \u201cclass\u201d column as target.\n", 
            "cell_type": "markdown", 
            "metadata": {}
        }, 
        {
            "source": "from pyspark.ml.classification import RandomForestClassifier", 
            "cell_type": "code", 
            "execution_count": 19, 
            "outputs": [], 
            "metadata": {}
        }, 
        {
            "source": "classifier = RandomForestClassifier(labelCol=\"class\", featuresCol=\"features\", numTrees=10)", 
            "cell_type": "code", 
            "execution_count": 20, 
            "outputs": [], 
            "metadata": {}
        }, 
        {
            "source": "Let\u2019s train and evaluate\u2026\n", 
            "cell_type": "markdown", 
            "metadata": {}
        }, 
        {
            "source": "from pyspark.ml import Pipeline\npipeline = Pipeline(stages=[vectorAssembler, classifier])", 
            "cell_type": "code", 
            "execution_count": 21, 
            "outputs": [], 
            "metadata": {}
        }, 
        {
            "source": "model = pipeline.fit(df_dft)", 
            "cell_type": "code", 
            "execution_count": 22, 
            "outputs": [], 
            "metadata": {}
        }, 
        {
            "source": "prediction = model.transform(df_dft)", 
            "cell_type": "code", 
            "execution_count": 23, 
            "outputs": [], 
            "metadata": {}
        }, 
        {
            "source": "prediction.show()", 
            "cell_type": "code", 
            "execution_count": 24, 
            "outputs": [
                {
                    "output_type": "stream", 
                    "name": "stdout", 
                    "text": "+----------+--------------------+--------------------+--------------------+--------------------+--------------------+--------------------+-----+--------------------+-------------+-----------+----------+\n|        id|                  xa|                  xb|                  ya|                  yb|                  za|                  zb|class|            features|rawPrediction|probability|prediction|\n+----------+--------------------+--------------------+--------------------+--------------------+--------------------+--------------------+-----+--------------------+-------------+-----------+----------+\n|8589934592|                 0.0|                 0.0|                 0.0|                 0.0|                 0.0|                 0.0|    0|           (6,[],[])|   [10.0,0.0]|  [1.0,0.0]|       0.0|\n|         0|                 0.0|                 0.0|                 0.0|                 0.0|                 0.0|                 0.0|    0|           (6,[],[])|   [10.0,0.0]|  [1.0,0.0]|       0.0|\n|8589934596|                 0.0|                 0.0|                 0.0|                 0.0|                 0.0|                 0.0|    0|           (6,[],[])|   [10.0,0.0]|  [1.0,0.0]|       0.0|\n|8589934598|                 0.0|                 0.0|                 0.0|                 0.0|                 0.0|                 0.0|    0|           (6,[],[])|   [10.0,0.0]|  [1.0,0.0]|       0.0|\n|8589934593|                 0.0|                 0.0|                 0.0|                 0.0|                 0.0|                 0.0|    0|           (6,[],[])|   [10.0,0.0]|  [1.0,0.0]|       0.0|\n|         6|                 0.0|                 0.0|                 0.0|                 0.0|                 0.0|                 0.0|    0|           (6,[],[])|   [10.0,0.0]|  [1.0,0.0]|       0.0|\n|         5|                 0.0|                 0.0|                 0.0|                 0.0|                 0.0|                 0.0|    0|           (6,[],[])|   [10.0,0.0]|  [1.0,0.0]|       0.0|\n|         1|                 0.0|                 0.0|                 0.0|                 0.0|                 0.0|                 0.0|    0|           (6,[],[])|   [10.0,0.0]|  [1.0,0.0]|       0.0|\n|         3|                 0.0|                 0.0|                 0.0|                 0.0|                 0.0|                 0.0|    0|           (6,[],[])|   [10.0,0.0]|  [1.0,0.0]|       0.0|\n|8589934594|                 0.0|                 0.0|                 0.0|                 0.0|                 0.0|                 0.0|    0|           (6,[],[])|   [10.0,0.0]|  [1.0,0.0]|       0.0|\n|8589934595|                 0.0|                 0.0|                 0.0|                 0.0|                 0.0|                 0.0|    0|           (6,[],[])|   [10.0,0.0]|  [1.0,0.0]|       0.0|\n|         2|                 0.0|                 0.0|                 0.0|                 0.0|                 0.0|                 0.0|    0|           (6,[],[])|   [10.0,0.0]|  [1.0,0.0]|       0.0|\n|         4|                 0.0|                 0.0|                 0.0|                 0.0|                 0.0|                 0.0|    0|           (6,[],[])|   [10.0,0.0]|  [1.0,0.0]|       0.0|\n|8589934597|                 0.0|                 0.0|                 0.0|                 0.0|                 0.0|                 0.0|    0|           (6,[],[])|   [10.0,0.0]|  [1.0,0.0]|       0.0|\n|        26|0.007432298669951747|-0.00394663166701...|0.007432298669951747|-0.00394663166701...|0.007432298669951747|-0.00394663166701...|    1|[0.00743229866995...|   [0.0,10.0]|  [0.0,1.0]|       1.0|\n|        29| 0.02589077158423112|-0.02414578651495463| 0.02589077158423112|-0.02414578651495463| 0.02589077158423112|-0.02414578651495463|    1|[0.02589077158423...|   [0.0,10.0]|  [0.0,1.0]|       1.0|\n|8589934592| 0.02589077121123453|0.024145789283483897| 0.02589077121123453|0.024145789283483897| 0.02589077121123453|0.024145789283483897|    1|[0.02589077121123...|   [0.0,10.0]|  [0.0,1.0]|       1.0|\n|        19|-0.08486126908675795| -0.0218913608396156|-0.08486126908675795| -0.0218913608396156|-0.08486126908675795| -0.0218913608396156|    1|[-0.0848612690867...|   [0.0,10.0]|  [0.0,1.0]|       1.0|\n|        54| 0.02941472472264519| 0.08753524593777502| 0.02941472472264519| 0.08753524593777502| 0.02941472472264519| 0.08753524593777502|    1|[0.02941472472264...|   [0.0,10.0]|  [0.0,1.0]|       1.0|\n|         0|-0.00305531695825...|0.013615410059352576|-0.00305531695825...|0.013615410059352576|-0.00305531695825...|0.013615410059352576|    1|[-0.0030553169582...|   [0.0,10.0]|  [0.0,1.0]|       1.0|\n+----------+--------------------+--------------------+--------------------+--------------------+--------------------+--------------------+-----+--------------------+-------------+-----------+----------+\nonly showing top 20 rows\n\n+----------+--------------------+--------------------+--------------------+--------------------+--------------------+--------------------+-----+--------------------+-------------+-----------+----------+\n|        id|                  xa|                  xb|                  ya|                  yb|                  za|                  zb|class|            features|rawPrediction|probability|prediction|\n+----------+--------------------+--------------------+--------------------+--------------------+--------------------+--------------------+-----+--------------------+-------------+-----------+----------+\n|8589934592|                 0.0|                 0.0|                 0.0|                 0.0|                 0.0|                 0.0|    0|           (6,[],[])|   [10.0,0.0]|  [1.0,0.0]|       0.0|\n|         0|                 0.0|                 0.0|                 0.0|                 0.0|                 0.0|                 0.0|    0|           (6,[],[])|   [10.0,0.0]|  [1.0,0.0]|       0.0|\n|8589934596|                 0.0|                 0.0|                 0.0|                 0.0|                 0.0|                 0.0|    0|           (6,[],[])|   [10.0,0.0]|  [1.0,0.0]|       0.0|\n|8589934598|                 0.0|                 0.0|                 0.0|                 0.0|                 0.0|                 0.0|    0|           (6,[],[])|   [10.0,0.0]|  [1.0,0.0]|       0.0|\n|8589934593|                 0.0|                 0.0|                 0.0|                 0.0|                 0.0|                 0.0|    0|           (6,[],[])|   [10.0,0.0]|  [1.0,0.0]|       0.0|\n|         6|                 0.0|                 0.0|                 0.0|                 0.0|                 0.0|                 0.0|    0|           (6,[],[])|   [10.0,0.0]|  [1.0,0.0]|       0.0|\n|         5|                 0.0|                 0.0|                 0.0|                 0.0|                 0.0|                 0.0|    0|           (6,[],[])|   [10.0,0.0]|  [1.0,0.0]|       0.0|\n|         1|                 0.0|                 0.0|                 0.0|                 0.0|                 0.0|                 0.0|    0|           (6,[],[])|   [10.0,0.0]|  [1.0,0.0]|       0.0|\n|         3|                 0.0|                 0.0|                 0.0|                 0.0|                 0.0|                 0.0|    0|           (6,[],[])|   [10.0,0.0]|  [1.0,0.0]|       0.0|\n|8589934594|                 0.0|                 0.0|                 0.0|                 0.0|                 0.0|                 0.0|    0|           (6,[],[])|   [10.0,0.0]|  [1.0,0.0]|       0.0|\n|8589934595|                 0.0|                 0.0|                 0.0|                 0.0|                 0.0|                 0.0|    0|           (6,[],[])|   [10.0,0.0]|  [1.0,0.0]|       0.0|\n|         2|                 0.0|                 0.0|                 0.0|                 0.0|                 0.0|                 0.0|    0|           (6,[],[])|   [10.0,0.0]|  [1.0,0.0]|       0.0|\n|         4|                 0.0|                 0.0|                 0.0|                 0.0|                 0.0|                 0.0|    0|           (6,[],[])|   [10.0,0.0]|  [1.0,0.0]|       0.0|\n|8589934597|                 0.0|                 0.0|                 0.0|                 0.0|                 0.0|                 0.0|    0|           (6,[],[])|   [10.0,0.0]|  [1.0,0.0]|       0.0|\n|        26|0.007432298669951747|-0.00394663166701...|0.007432298669951747|-0.00394663166701...|0.007432298669951747|-0.00394663166701...|    1|[0.00743229866995...|   [0.0,10.0]|  [0.0,1.0]|       1.0|\n|        29| 0.02589077158423112|-0.02414578651495463| 0.02589077158423112|-0.02414578651495463| 0.02589077158423112|-0.02414578651495463|    1|[0.02589077158423...|   [0.0,10.0]|  [0.0,1.0]|       1.0|\n|8589934592| 0.02589077121123453|0.024145789283483897| 0.02589077121123453|0.024145789283483897| 0.02589077121123453|0.024145789283483897|    1|[0.02589077121123...|   [0.0,10.0]|  [0.0,1.0]|       1.0|\n|        19|-0.08486126908675795| -0.0218913608396156|-0.08486126908675795| -0.0218913608396156|-0.08486126908675795| -0.0218913608396156|    1|[-0.0848612690867...|   [0.0,10.0]|  [0.0,1.0]|       1.0|\n|        54| 0.02941472472264519| 0.08753524593777502| 0.02941472472264519| 0.08753524593777502| 0.02941472472264519| 0.08753524593777502|    1|[0.02941472472264...|   [0.0,10.0]|  [0.0,1.0]|       1.0|\n|         0|-0.00305531695825...|0.013615410059352576|-0.00305531695825...|0.013615410059352576|-0.00305531695825...|0.013615410059352576|    1|[-0.0030553169582...|   [0.0,10.0]|  [0.0,1.0]|       1.0|\n+----------+--------------------+--------------------+--------------------+--------------------+--------------------+--------------------+-----+--------------------+-------------+-----------+----------+\nonly showing top 20 rows\n\n"
                }
            ], 
            "metadata": {}
        }, 
        {
            "source": "from pyspark.ml.evaluation import MulticlassClassificationEvaluator\nbinEval = MulticlassClassificationEvaluator().setMetricName(\"accuracy\") .setPredictionCol(\"prediction\").setLabelCol(\"class\")\n    \nbinEval.evaluate(prediction) ", 
            "cell_type": "code", 
            "execution_count": 26, 
            "outputs": [
                {
                    "output_type": "execute_result", 
                    "metadata": {}, 
                    "data": {
                        "text/plain": "1.0"
                    }, 
                    "execution_count": 26
                }, 
                {
                    "output_type": "execute_result", 
                    "metadata": {}, 
                    "data": {
                        "text/plain": "1.0"
                    }, 
                    "execution_count": 26
                }
            ], 
            "metadata": {}
        }, 
        {
            "source": "If you are happy with the result (I\u2019m happy with > 0.8) please submit your solution to the grader by executing the following cells, please don\u2019t forget to obtain an assignment submission token (secret) from the Courera\u2019s graders web page and paste it to the \u201csecret\u201d variable below, including your email address you\u2019ve used for Coursera. \n", 
            "cell_type": "markdown", 
            "metadata": {}
        }, 
        {
            "source": "!rm -Rf a2_m4.json", 
            "cell_type": "code", 
            "execution_count": 27, 
            "outputs": [], 
            "metadata": {}
        }, 
        {
            "source": "prediction = prediction.repartition(1)\nprediction.write.json('a2_m4.json')", 
            "cell_type": "code", 
            "execution_count": 28, 
            "outputs": [], 
            "metadata": {}
        }, 
        {
            "source": "!rm -f rklib.py\n!wget wget https://raw.githubusercontent.com/IBM/coursera/master/rklib.py", 
            "cell_type": "code", 
            "execution_count": 29, 
            "outputs": [
                {
                    "output_type": "stream", 
                    "name": "stdout", 
                    "text": "--2019-08-27 03:05:53--  http://wget/\nResolving wget (wget)... failed: Name or service not known.\nwget: unable to resolve host address 'wget'\n--2019-08-27 03:05:53--  https://raw.githubusercontent.com/IBM/coursera/master/rklib.py\nResolving raw.githubusercontent.com (raw.githubusercontent.com)... 151.101.48.133\nConnecting to raw.githubusercontent.com (raw.githubusercontent.com)|151.101.48.133|:443... connected.\nHTTP request sent, awaiting response... --2019-08-27 03:05:53--  http://wget/\nResolving wget (wget)... failed: Name or service not known.\nwget: unable to resolve host address 'wget'\n--2019-08-27 03:05:53--  https://raw.githubusercontent.com/IBM/coursera/master/rklib.py\nResolving raw.githubusercontent.com (raw.githubusercontent.com)... 151.101.48.133\nConnecting to raw.githubusercontent.com (raw.githubusercontent.com)|151.101.48.133|:443... connected.\nHTTP request sent, awaiting response... 200 OK\nLength: 2540 (2.5K) [text/plain]\nSaving to: 'rklib.py'\n\nrklib.py            100%[===================>]   2.48K  --.-KB/s    in 0s      \n\n2019-08-27 03:05:53 (58.7 MB/s) - 'rklib.py' saved [2540/2540]\n\nFINISHED --2019-08-27 03:05:53--\nTotal wall clock time: 0.2s\nDownloaded: 1 files, 2.5K in 0s (58.7 MB/s)\n200 OK\nLength: 2540 (2.5K) [text/plain]\nSaving to: 'rklib.py'\n\nrklib.py            100%[===================>]   2.48K  --.-KB/s    in 0s      \n\n2019-08-27 03:05:53 (58.7 MB/s) - 'rklib.py' saved [2540/2540]\n\nFINISHED --2019-08-27 03:05:53--\nTotal wall clock time: 0.2s\nDownloaded: 1 files, 2.5K in 0s (58.7 MB/s)\n"
                }
            ], 
            "metadata": {}
        }, 
        {
            "source": "from rklib import zipit\nzipit('a2_m4.json.zip','a2_m4.json')", 
            "cell_type": "code", 
            "execution_count": 30, 
            "outputs": [], 
            "metadata": {}
        }, 
        {
            "source": "!base64 a2_m4.json.zip > a2_m4.json.zip.base64", 
            "cell_type": "code", 
            "execution_count": 31, 
            "outputs": [], 
            "metadata": {}
        }, 
        {
            "source": "from rklib import submit\nkey = \"-fBiYHYDEeiR4QqiFhAvkA\"\npart = \"IjtJk\"\nemail = \"rezapci@msn.com\"\nsubmission_token = \"iSsBJLxOPnZdePJr\"\n\nwith open('a2_m4.json.zip.base64', 'r') as myfile:\n    data=myfile.read()\nsubmit(email, submission_token, key, part, [part], data)", 
            "cell_type": "code", 
            "execution_count": 32, 
            "outputs": [
                {
                    "output_type": "stream", 
                    "name": "stdout", 
                    "text": "Submission successful, please check on the coursera grader page for the status\n-------------------------\n{\"elements\":[{\"itemId\":\"B8wXV\",\"id\":\"f_F-qCtuEei_fRLwaVDk3g~B8wXV~nARuIMh3EemQfBLqwv7NqA\",\"courseId\":\"f_F-qCtuEei_fRLwaVDk3g\"}],\"paging\":{},\"linked\":{}}\n-------------------------\nSubmission successful, please check on the coursera grader page for the status\n-------------------------\n{\"elements\":[{\"itemId\":\"B8wXV\",\"id\":\"f_F-qCtuEei_fRLwaVDk3g~B8wXV~nARuIMh3EemQfBLqwv7NqA\",\"courseId\":\"f_F-qCtuEei_fRLwaVDk3g\"}],\"paging\":{},\"linked\":{}}\n-------------------------\n"
                }
            ], 
            "metadata": {}
        }, 
        {
            "source": "", 
            "cell_type": "code", 
            "execution_count": null, 
            "outputs": [], 
            "metadata": {}
        }
    ], 
    "nbformat": 4, 
    "metadata": {
        "kernelspec": {
            "display_name": "Python 3.6 with Spark", 
            "name": "python36", 
            "language": "python3"
        }, 
        "language_info": {
            "mimetype": "text/x-python", 
            "nbconvert_exporter": "python", 
            "version": "3.6.8", 
            "name": "python", 
            "pygments_lexer": "ipython3", 
            "file_extension": ".py", 
            "codemirror_mode": {
                "version": 3, 
                "name": "ipython"
            }
        }
    }
}