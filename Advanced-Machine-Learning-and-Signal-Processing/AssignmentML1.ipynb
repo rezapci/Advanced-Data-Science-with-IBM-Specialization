{
 "cells": [
  {
   "cell_type": "markdown",
   "metadata": {},
   "source": [
    "| Name | Description | Date \n",
    "| :- |-------------: | :-:\n",
    "|Reza Hashemi| Advanced Machine Learning and Signal Processing | on 24th of August 2019 |\n",
    "\n",
    "This is the first assgiment for the Coursera course \"Advanced Machine Learning and Signal Processing\"\n",
    "\n",
    "The first step is to insert the credentials to the Apache CouchDB / Cloudant database where your sensor data ist stored to. \n",
    "\n",
    "1. In the project's overview tab of this project just select \"Add to project\"->Connection\n",
    "2. From the section \"Your service instances in IBM Cloud\" select your cloudant database and click on \"create\"\n",
    "3. Now click in the empty cell below labeled with \"your cloudant credentials go here\"\n",
    "4. Click on the \"10-01\" symbol top right and selecrt the \"Connections\" tab\n",
    "5. Find your data base connection and click on \"Insert to code\"\n",
    "\n",
    "The following video illustrates this process: https://www.youtube.com/watch?v=dCawUGv7qgs\n",
    "\n",
    "Done, just execute all cells one after the other and you are done - just note that in the last one you have to update your email address (the one you've used for coursera) and obtain a submittion token, you get this from the programming assingment directly on coursera."
   ]
  },
  {
   "cell_type": "code",
   "execution_count": 1,
   "metadata": {},
   "outputs": [],
   "source": [
    "# The code was removed by Watson Studio for sharing."
   ]
  },
  {
   "cell_type": "code",
   "execution_count": 2,
   "metadata": {},
   "outputs": [],
   "source": [
    "spark = SparkSession\\\n",
    "    .builder\\\n",
    "    .appName(\"Cloudant Spark SQL Example in Python using temp tables\")\\\n",
    "    .config(\"cloudant.host\",credentials_1['custom_url'].split('@')[1])\\\n",
    "    .config(\"cloudant.username\", credentials_1['username'])\\\n",
    "    .config(\"cloudant.password\",credentials_1['password'])\\\n",
    "    .config(\"jsonstore.rdd.partitions\", 1)\\\n",
    "    .getOrCreate()"
   ]
  },
  {
   "cell_type": "code",
   "execution_count": 16,
   "metadata": {},
   "outputs": [
    {
     "name": "stdout",
     "output_type": "stream",
     "text": [
      "+-----+--------+------+------+------+--------------------+--------------------+\n",
      "|CLASS|SENSORID|     X|     Y|     Z|                 _id|                _rev|\n",
      "+-----+--------+------+------+------+--------------------+--------------------+\n",
      "|    0|asdfghjk| -0.03| -0.03| -0.03|3bab9dca5c34a1686...|1-967b15a020f89c2...|\n",
      "|    0|asdfghjk|   0.3|   0.3|   0.3|3bab9dca5c34a1686...|1-771db8b270eed18...|\n",
      "|    0|asdfghjk|  0.13|  0.13|  0.13|3bab9dca5c34a1686...|1-03394f9bd867b28...|\n",
      "|    0|asdfghjk|  0.33|  0.33|  0.33|3bab9dca5c34a1686...|1-eba940c4d894cca...|\n",
      "|    0|asdfghjk|  0.04|  0.04|  0.04|3bab9dca5c34a1686...|1-004320ad84dbdd4...|\n",
      "|    0|asdfghjk|  0.11|  0.11|  0.11|3bab9dca5c34a1686...|1-47a51f94506efe1...|\n",
      "|    0|asdfghjk|  0.06|  0.06|  0.06|3bab9dca5c34a1686...|1-b0e0ea0b0976f0b...|\n",
      "|    0|asdfghjk|  0.08|  0.08|  0.08|3bab9dca5c34a1686...|1-d56ad70b3d29672...|\n",
      "|    0|asdfghjk|  1.94|  1.94|  1.94|3bab9dca5c34a1686...|1-deade6c17c7032d...|\n",
      "|    0|asdfghjk| 11.29| 11.29| 11.29|3bab9dca5c34a1686...|1-6c46eb08ecdaad5...|\n",
      "|    0|asdfghjk|  9.58|  9.58|  9.58|3bab9dca5c34a1686...|1-262e9aac0093c8a...|\n",
      "|    0|asdfghjk| 10.71| 10.71| 10.71|3bab9dca5c34a1686...|1-d866494e72fbf3c...|\n",
      "|    0|asdfghjk|  -0.8|  -0.8|  -0.8|3bab9dca5c34a1686...|1-53e3e2d2a710b67...|\n",
      "|    0|asdfghjk|-32.62|-32.62|-32.62|3bab9dca5c34a1686...|1-f19cdd0864d878b...|\n",
      "|    0|asdfghjk|  11.5|  11.5|  11.5|3bab9dca5c34a1686...|1-404266b326293b3...|\n",
      "|    0|asdfghjk| 37.79| 37.79| 37.79|3bab9dca5c34a1686...|1-1285882df0469a7...|\n",
      "|    0|asdfghjk|  1.74|  1.74|  1.74|3bab9dca5c34a1686...|1-2dd0320839cde3b...|\n",
      "|    0|asdfghjk|  1.21|  1.21|  1.21|3bab9dca5c34a1686...|1-8d866076546dabe...|\n",
      "|    0|asdfghjk| -1.92| -1.92| -1.92|3bab9dca5c34a1686...|1-556a90fd09abb36...|\n",
      "|    0|asdfghjk|  0.16|  0.16|  0.16|3bab9dca5c34a1686...|1-f19648c9b394fb3...|\n",
      "+-----+--------+------+------+------+--------------------+--------------------+\n",
      "only showing top 20 rows\n",
      "\n"
     ]
    }
   ],
   "source": [
    "df=spark.read.load('shake', \"com.cloudant.spark\")\n",
    "\n",
    "df.createOrReplaceTempView(\"df\")\n",
    "spark.sql(\"SELECT * from df\").show()\n"
   ]
  },
  {
   "cell_type": "code",
   "execution_count": 17,
   "metadata": {},
   "outputs": [
    {
     "data": {
      "text/plain": [
       "DataFrame[summary: string, CLASS: string, SENSORID: string, X: string, Y: string, Z: string, _id: string, _rev: string]"
      ]
     },
     "execution_count": 17,
     "metadata": {},
     "output_type": "execute_result"
    }
   ],
   "source": [
    "df.describe()"
   ]
  },
  {
   "cell_type": "code",
   "execution_count": 19,
   "metadata": {},
   "outputs": [],
   "source": [
    "!rm -Rf a2_m1.parquet"
   ]
  },
  {
   "cell_type": "code",
   "execution_count": 20,
   "metadata": {},
   "outputs": [],
   "source": [
    "df = df.repartition(1)\n",
    "df.write.json('a2_m1.json')"
   ]
  },
  {
   "cell_type": "code",
   "execution_count": 21,
   "metadata": {},
   "outputs": [
    {
     "name": "stdout",
     "output_type": "stream",
     "text": [
      "--2018-12-11 14:56:07--  https://raw.githubusercontent.com/romeokienzler/developerWorks/master/coursera/ai/rklib.py\n",
      "Resolving raw.githubusercontent.com (raw.githubusercontent.com)... 151.101.48.133\n",
      "Connecting to raw.githubusercontent.com (raw.githubusercontent.com)|151.101.48.133|:443... connected.\n",
      "HTTP request sent, awaiting response... 200 OK\n",
      "Length: 2289 (2.2K) [text/plain]\n",
      "Saving to: ‘rklib.py’\n",
      "\n",
      "100%[======================================>] 2,289       --.-K/s   in 0s      \n",
      "\n",
      "2018-12-11 14:56:08 (19.4 MB/s) - ‘rklib.py’ saved [2289/2289]\n",
      "\n"
     ]
    }
   ],
   "source": [
    "!rm -f rklib.py\n",
    "!wget https://raw.githubusercontent.com/romeokienzler/developerWorks/master/coursera/ai/rklib.py"
   ]
  },
  {
   "cell_type": "code",
   "execution_count": 22,
   "metadata": {},
   "outputs": [
    {
     "name": "stdout",
     "output_type": "stream",
     "text": [
      "  adding: a2_m1.json/ (stored 0%)\r\n",
      "  adding: a2_m1.json/_SUCCESS (stored 0%)\r\n",
      "  adding: a2_m1.json/._SUCCESS.crc (stored 0%)\r\n",
      "  adding: a2_m1.json/part-00000-edc422b4-0bd5-404b-8848-35acba9a252a.json (deflated 84%)\r\n",
      "  adding: a2_m1.json/.part-00000-edc422b4-0bd5-404b-8848-35acba9a252a.json.crc (stored 0%)\r\n"
     ]
    }
   ],
   "source": [
    "!zip -r a2_m1.json.zip a2_m1.json"
   ]
  },
  {
   "cell_type": "code",
   "execution_count": 23,
   "metadata": {},
   "outputs": [],
   "source": [
    "!base64 a2_m1.json.zip > a2_m1.json.zip.base64"
   ]
  },
  {
   "cell_type": "code",
   "execution_count": 24,
   "metadata": {},
   "outputs": [
    {
     "name": "stdout",
     "output_type": "stream",
     "text": [
      "Submission successful, please check on the coursera grader page for the status\n",
      "-------------------------\n",
      "{\"elements\":[{\"itemId\":\"O8C69\",\"id\":\"f_F-qCtuEei_fRLwaVDk3g~O8C69~X23lhP2HEeid1Q7crquXzg\",\"courseId\":\"f_F-qCtuEei_fRLwaVDk3g\"}],\"paging\":{},\"linked\":{}}\n",
      "-------------------------\n"
     ]
    }
   ],
   "source": [
    "from rklib import submit\n",
    "key = \"1injH2F0EeiLlRJ3eJKoXA\"\n",
    "part = \"wNLDt\"\n",
    "email = \"rezapci@msn.com\"\n",
    "secret = \"SjnUEmVqGVfTDljP\"\n",
    "\n",
    "with open('a2_m1.json.zip.base64', 'r') as myfile:\n",
    "    data=myfile.read()\n",
    "submit(email, secret, key, part, [part], data)"
   ]
  },
  {
   "cell_type": "code",
   "execution_count": null,
   "metadata": {},
   "outputs": [],
   "source": []
  }
 ],
 "metadata": {
  "kernelspec": {
   "display_name": "Python 3.6",
   "language": "python",
   "name": "python3"
  },
  "language_info": {
   "codemirror_mode": {
    "name": "ipython",
    "version": 3
   },
   "file_extension": ".py",
   "mimetype": "text/x-python",
   "name": "python",
   "nbconvert_exporter": "python",
   "pygments_lexer": "ipython3",
   "version": "3.6.8"
  }
 },
 "nbformat": 4,
 "nbformat_minor": 1
}
